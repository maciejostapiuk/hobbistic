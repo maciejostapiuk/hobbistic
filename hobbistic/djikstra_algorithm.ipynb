{
 "cells": [
  {
   "cell_type": "code",
   "execution_count": 2,
   "metadata": {},
   "outputs": [
    {
     "ename": "AttributeError",
     "evalue": "'dict' object has no attribute 'add_edges_from'",
     "output_type": "error",
     "traceback": [
      "\u001b[0;31m---------------------------------------------------------------------------\u001b[0m",
      "\u001b[0;31mAttributeError\u001b[0m                            Traceback (most recent call last)",
      "\u001b[1;32m/home/maciejostapiuk/studies/projects/hobbistic/djikstra_algorithm.ipynb Cell 1'\u001b[0m in \u001b[0;36m<cell line: 6>\u001b[0;34m()\u001b[0m\n\u001b[1;32m      <a href='vscode-notebook-cell:/home/maciejostapiuk/studies/projects/hobbistic/djikstra_algorithm.ipynb#ch0000000?line=3'>4</a>\u001b[0m g \u001b[39m=\u001b[39m nx\u001b[39m.\u001b[39mGraph()\n\u001b[1;32m      <a href='vscode-notebook-cell:/home/maciejostapiuk/studies/projects/hobbistic/djikstra_algorithm.ipynb#ch0000000?line=4'>5</a>\u001b[0m g\u001b[39m.\u001b[39madd_nodes_from([\u001b[39m1\u001b[39m,\u001b[39m2\u001b[39m,\u001b[39m3\u001b[39m,\u001b[39m4\u001b[39m,\u001b[39m5\u001b[39m])\n\u001b[0;32m----> <a href='vscode-notebook-cell:/home/maciejostapiuk/studies/projects/hobbistic/djikstra_algorithm.ipynb#ch0000000?line=5'>6</a>\u001b[0m pos\u001b[39m.\u001b[39;49madd_edges_from([(\u001b[39m0\u001b[39m,\u001b[39m1\u001b[39m),(\u001b[39m0\u001b[39m,\u001b[39m2\u001b[39m),(\u001b[39m1\u001b[39m,\u001b[39m2\u001b[39m)])\n\u001b[1;32m      <a href='vscode-notebook-cell:/home/maciejostapiuk/studies/projects/hobbistic/djikstra_algorithm.ipynb#ch0000000?line=7'>8</a>\u001b[0m pos \u001b[39m=\u001b[39m nx\u001b[39m.\u001b[39mspring_layout(g)\n\u001b[1;32m      <a href='vscode-notebook-cell:/home/maciejostapiuk/studies/projects/hobbistic/djikstra_algorithm.ipynb#ch0000000?line=8'>9</a>\u001b[0m nx\u001b[39m.\u001b[39mdraw(pos)\n",
      "\u001b[0;31mAttributeError\u001b[0m: 'dict' object has no attribute 'add_edges_from'"
     ]
    }
   ],
   "source": [
    "import networkx as nx \n",
    "\n",
    "\n",
    "g = nx.Graph()\n",
    "g.add_nodes_from([1,2,3,4,5])\n",
    "g.add_edges_from([(0,1),(0,2),(1,2)])\n",
    "\n",
    "pos = nx.spring_layout(g)\n",
    "nx.draw(pos)\n"
   ]
  },
  {
   "cell_type": "code",
   "execution_count": null,
   "metadata": {},
   "outputs": [],
   "source": []
  }
 ],
 "metadata": {
  "kernelspec": {
   "display_name": "Python 3.8.10 ('testproj')",
   "language": "python",
   "name": "python3"
  },
  "language_info": {
   "codemirror_mode": {
    "name": "ipython",
    "version": 3
   },
   "file_extension": ".py",
   "mimetype": "text/x-python",
   "name": "python",
   "nbconvert_exporter": "python",
   "pygments_lexer": "ipython3",
   "version": "3.8.10"
  },
  "orig_nbformat": 4,
  "vscode": {
   "interpreter": {
    "hash": "d76fc66f1fd29e3462ddb41b52f6f7cd8e755df86e508d926244f0ef53b0f61b"
   }
  }
 },
 "nbformat": 4,
 "nbformat_minor": 2
}
